{
 "cells": [
  {
   "cell_type": "code",
   "execution_count": 2,
   "metadata": {},
   "outputs": [],
   "source": [
    "from statsmodels.stats.proportion import proportions_ztest\n",
    "import numpy as np"
   ]
  },
  {
   "cell_type": "code",
   "execution_count": 3,
   "metadata": {},
   "outputs": [],
   "source": [
    "significance = 0.05 #alpha value <- sample size 5%\n",
    "successes = np.array([320, 300]) # จำนวนความสำเร็จในแต่ละกลุ่ม x1, x2\n",
    "samples = np.array([400, 425]) # ขนาดตัวอย่าง n1, n2"
   ]
  },
  {
   "cell_type": "code",
   "execution_count": 4,
   "metadata": {},
   "outputs": [],
   "source": [
    "stat,p_value = proportions_ztest(count=successes,nobs=samples,alternative='two-sided')"
   ]
  },
  {
   "cell_type": "code",
   "execution_count": 8,
   "metadata": {},
   "outputs": [
    {
     "name": "stdout",
     "output_type": "stream",
     "text": [
      "z_stat: 3.12644, p_value: 0.00177\n",
      "Reject the null hypothesis\n"
     ]
    }
   ],
   "source": [
    "print(f'z_stat: {stat:.5f}, p_value: {p_value:.5f}')\n",
    "if p_value < significance:\n",
    "    print (\"Reject the null hypothesis\")\n",
    "else:\n",
    "    print (\"Accept the null hypothesis\")"
   ]
  }
 ],
 "metadata": {
  "kernelspec": {
   "display_name": "Python 3",
   "language": "python",
   "name": "python3"
  },
  "language_info": {
   "codemirror_mode": {
    "name": "ipython",
    "version": 3
   },
   "file_extension": ".py",
   "mimetype": "text/x-python",
   "name": "python",
   "nbconvert_exporter": "python",
   "pygments_lexer": "ipython3",
   "version": "3.12.4"
  }
 },
 "nbformat": 4,
 "nbformat_minor": 2
}
