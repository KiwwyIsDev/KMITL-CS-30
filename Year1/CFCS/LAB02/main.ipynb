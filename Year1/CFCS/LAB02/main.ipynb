{
 "cells": [
  {
   "cell_type": "code",
   "execution_count": 2,
   "metadata": {},
   "outputs": [],
   "source": [
    "import sympy as sym\n",
    "import numpy as np\n",
    "import matplotlib.pyplot as plt"
   ]
  },
  {
   "cell_type": "markdown",
   "metadata": {},
   "source": [
    "สมมติว่านักศึกษามีอัลกอริทึมที่มีเวลาการทำงานตามฟังก์ชัน T(n) ด้านล่าง โดย n คือจำนวนอินพุต ให้นักศึกษาเขียนโปรแกรมหาขีดจำกัดของเวลาเมื่อ n→∞ เพื่อดูว่าอัลกอริทึมมีการเติบโตในอัตราเวลาสูงสุดเท่าไหร่\n",
    "ตอบ 0.5\n"
   ]
  },
  {
   "cell_type": "code",
   "execution_count": 5,
   "metadata": {},
   "outputs": [
    {
     "name": "stdout",
     "output_type": "stream",
     "text": [
      "0.5\n"
     ]
    }
   ],
   "source": [
    "n = sym.symbols(\"n\")\n",
    "print(float(sym.limit((n**2 + 3 * n + 4) / (2 * n**2 + 5), n, sym.oo)))"
   ]
  },
  {
   "cell_type": "markdown",
   "metadata": {},
   "source": [
    "ในยุคดิจิทัลที่ทุกธุรกิจพึ่งพาระบบ Cloud Computing สำหรับการประมวลผลและจัดเก็บข้อมูล ระบบ Cloud ถูกออกแบบมาเพื่อรองรับการใช้งานแบบกระจายศูนย์ (Distributed Resources) หนึ่งในปัญหาหลักที่เกิดขึ้นคือ การจัดการและกระจายทรัพยากรให้เหมาะสมระหว่างเซิร์ฟเวอร์ในแต่ละศูนย์ข้อมูล (Data Center)\n",
    "\n",
    "สมมติว่ามีศูนย์ข้อมูล 2 แห่ง (Data Center A และ Data Center B) ซึ่งต้องทำงานร่วมกันเพื่อรองรับปริมาณงานที่เข้ามาในระบบ\n",
    "Data Center A: มีจำนวน x เซิร์ฟเวอร์ที่พร้อมให้บริการ\n",
    "Data Center B: มีจำนวน y เซิร์ฟเวอร์ที่พร้อมให้บริการ\n",
    "\n",
    "ความสามารถในการประมวลผลรวม (Processing Efficiency) ของทั้งระบบถูกกำหนดด้วยฟังก์ชัน f(x) ด้านล่าง โดยกำหนดให้\n",
    "x แทน จำนวนเซิร์ฟเวอร์ใน Data Center A\n",
    "y แทน จำนวนเซิร์ฟเวอร์ใน Data Center B\n",
    "P(x, y) แทน อัตราประสิทธิภาพในการประมวลผลของระบบ\n",
    "\n",
    "ถ้า Data Center A มีจำนวนเซิร์ฟเวอร์ขยายตัวมหาศาลอย่างไม่หยุดยั้ง ในขณะที่ Data Center B มีจำนวน 10 เครื่อง ซึ่งยังไม่เคยได้รับการอัปเกรดมาตั้งแต่วันแรกของการเปิดตัว ทีมวิศวกรระบบต้องการทราบว่า อัตราประสิทธิภาพ P(x,y) ของระบบโดยรวมจะเป็นอย่างไร (ตอบเป็นทศนิยม 5 ตำแหน่ง)\n",
    "ตอบ 1.66667\n"
   ]
  },
  {
   "cell_type": "code",
   "execution_count": 6,
   "metadata": {},
   "outputs": [
    {
     "name": "stdout",
     "output_type": "stream",
     "text": [
      "1.66667\n"
     ]
    }
   ],
   "source": [
    "x, y = sym.symbols(\"x y\")\n",
    "sol = sym.limit((5 * x**2 + 7 * y) / (3 * x**2 + 2 * x * y + y**2), x, sym.oo)\n",
    "sol2 = sym.limit(sol, y, sym.oo)\n",
    "print(f\"{sol2:.5f}\")"
   ]
  },
  {
   "cell_type": "markdown",
   "metadata": {},
   "source": [
    "สมมติว่านักศึกษากำลังเรียนรู้การทำงานของโครงข่ายประสาทเทียม (Neural Network) และนักศึกษาสงสัยการทำงานในชั้น Activation ที่ใช้ฟังก์ชัน Sigmoid ตามสูตร f(x) ด้านล่าง ว่ามีหลักการทำงานอย่างไร นักศึกษาจึงวิเคราะห์ค่าลิมิตของ f(x) เมื่อ x→∞ และ x→−∞ เพื่อเข้าใจพฤติกรรมของฟังก์ชัน Sigmoid\n",
    "\n",
    "ให้นักศึกษาวาดกราฟและคำนวณค่าลิมิตให้แสดงในกราฟดังรูป\n"
   ]
  },
  {
   "cell_type": "code",
   "execution_count": null,
   "metadata": {},
   "outputs": [
    {
     "data": {
      "image/png": "[encoded data removed]",
      "text/plain": [
       "<Figure size 640x480 with 1 Axes>"
      ]
     },
     "metadata": {},
     "output_type": "display_data"
    }
   ],
   "source": [
    "# import matplotlib.pyplot as plt\n",
    "# import numpy as np\n",
    "\n",
    "x = np.linspace(-4, 4, 80)\n",
    "f = 1 / (1 + np.exp(-x))\n",
    "plt.plot(x, f, \"b\")\n",
    "plt.xlabel(\"x\")\n",
    "plt.ylabel(\"f(x)\")\n",
    "plt.xlim(-4, 4)\n",
    "plt.ylim(0.0, 1.0)\n",
    "plt.title(\"f(x) = 1/(1+e**-x)\")\n",
    "plt.text(0.2, 0.2, \"Sigmoid limit as x -> oo: 1\", color=\"b\")\n",
    "plt.text(0.2, 0.15, \"Sigmoid limit as x -> -oo: 0\", color=\"b\")\n",
    "plt.show()"
   ]
  },
  {
   "cell_type": "markdown",
   "metadata": {},
   "source": [
    "จงหาคำตอบของลิมิต โดยใช้การเขียนโปรแกรม\n"
   ]
  },
  {
   "cell_type": "code",
   "execution_count": 9,
   "metadata": {},
   "outputs": [
    {
     "name": "stdout",
     "output_type": "stream",
     "text": [
      "2\n"
     ]
    }
   ],
   "source": [
    "x, y = sym.symbols(\"x y\")\n",
    "sol = sym.limit((x * y) / ((x * y + 1) ** 0.5 - 1), x, 0)\n",
    "sol2 = sym.limit(sol, y, 0)\n",
    "print(sol2)"
   ]
  },
  {
   "cell_type": "code",
   "execution_count": 10,
   "metadata": {},
   "outputs": [
    {
     "name": "stdout",
     "output_type": "stream",
     "text": [
      "(1 - cos(2))*exp(-2)/2\n"
     ]
    }
   ],
   "source": [
    "x , y = sym.symbols('x y')\n",
    "p = sym.limit((1-sym.cos(x**2 + y**2))/((x**2 + y**2)*sym.exp(x**2 + y**2)), x , 1)\n",
    "subp = sym.limit(p , y , -1)\n",
    "print(subp)"
   ]
  },
  {
   "cell_type": "code",
   "execution_count": 14,
   "metadata": {},
   "outputs": [
    {
     "name": "stdout",
     "output_type": "stream",
     "text": [
      "oo\n"
     ]
    }
   ],
   "source": [
    "x, y = sym.symbols('x y')\n",
    "expr = (1 / sym.sqrt((1 - x)**2 + y**2)) + (1 / sym.sqrt((1 + x)**2 + y**2))\n",
    "sol = sym.limit(expr, x, 1)\n",
    "sol2 = sym.limit(sol, y, 0)\n",
    "print(sol2)"
   ]
  }
 ],
 "metadata": {
  "kernelspec": {
   "display_name": "Python 3",
   "language": "python",
   "name": "python3"
  },
  "language_info": {
   "codemirror_mode": {
    "name": "ipython",
    "version": 3
   },
   "file_extension": ".py",
   "mimetype": "text/x-python",
   "name": "python",
   "nbconvert_exporter": "python",
   "pygments_lexer": "ipython3",
   "version": "3.11.9"
  }
 },
 "nbformat": 4,
 "nbformat_minor": 2
}
